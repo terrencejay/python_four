{
 "cells": [
  {
   "cell_type": "markdown",
   "metadata": {},
   "source": [
    "# Object-Oriented-Programming (OOP)"
   ]
  },
  {
   "cell_type": "markdown",
   "metadata": {},
   "source": [
    "## Tasks Today:\n",
    "\n",
    "   \n",
    "\n",
    "1) <b>Creating a Class (Initializing/Declaring)</b> <br>\n",
    "2) <b>Using a Class (Instantiating)</b> <br>\n",
    " &nbsp;&nbsp;&nbsp;&nbsp; a) Creating One Instance <br>\n",
    " &nbsp;&nbsp;&nbsp;&nbsp; b) Creating Multiple Instances <br>\n",
    " &nbsp;&nbsp;&nbsp;&nbsp; c) In-Class Exercise #1 - Create a Class 'Car' and instantiate three different makes of cars <br>\n",
    "3) <b>The \\__init\\__() Method</b> <br>\n",
    " &nbsp;&nbsp;&nbsp;&nbsp; a) The 'self' Attribute <br>\n",
    "4) <b>Class Attributes</b> <br>\n",
    " &nbsp;&nbsp;&nbsp;&nbsp; a) Initializing Attributes <br>\n",
    " &nbsp;&nbsp;&nbsp;&nbsp; b) Setting an Attribute Outside of the \\__init\\__() Method <br>\n",
    " &nbsp;&nbsp;&nbsp;&nbsp; c) Setting Defaults for Attributes <br>\n",
    " &nbsp;&nbsp;&nbsp;&nbsp; d) Accessing Class Attributes <br>\n",
    " &nbsp;&nbsp;&nbsp;&nbsp; e) Changing Class Attributes <br>\n",
    " &nbsp;&nbsp;&nbsp;&nbsp; f) In-Class Exercise #2 - Add a color and wheels attribute to your 'Car' class <br>\n",
    "5) <b>Class Methods</b> <br>\n",
    " &nbsp;&nbsp;&nbsp;&nbsp; a) Creating <br>\n",
    " &nbsp;&nbsp;&nbsp;&nbsp; b) Calling <br>\n",
    " &nbsp;&nbsp;&nbsp;&nbsp; c) Modifying an Attribute's Value Through a Method <br>\n",
    " &nbsp;&nbsp;&nbsp;&nbsp; d) Incrementing an Attribute's Value Through a Method <br>\n",
    " &nbsp;&nbsp;&nbsp;&nbsp; e) In-Class Exercise #3 - Add a method that prints the cars color and wheel number, then call them <br>\n",
    "6) <b>Inheritance</b> <br>\n",
    " &nbsp;&nbsp;&nbsp;&nbsp; a) Syntax for Inheriting from a Parent Class <br>\n",
    " &nbsp;&nbsp;&nbsp;&nbsp; b) The \\__init\\__() Method for a Child Class (super()) <br>\n",
    " &nbsp;&nbsp;&nbsp;&nbsp; c) Defining Attributes and Methods for the Child Class <br>\n",
    " &nbsp;&nbsp;&nbsp;&nbsp; d) Method Overriding <br>\n",
    " &nbsp;&nbsp;&nbsp;&nbsp; e) In-Class Exercise #4 - Create a class 'Ford' that inherits from 'Car' class and initialize it as a Blue Ford Explorer with 4 wheels using the super() method <br>\n",
    "7) <b>Classes as Attributes</b> <br>\n",
    "8) <b>Exercises</b> <br>\n",
    " &nbsp;&nbsp;&nbsp;&nbsp; a) Exercise #1 - Turn the shopping cart program from yesterday into an object-oriented program <br>"
   ]
  },
  {
   "cell_type": "markdown",
   "metadata": {},
   "source": [
    "## Creating a Class (Initializing/Declaring)\n",
    "<p>When creating a class, function, or even a variable you are initializing that object. Initializing and Declaring occur at the same time in Python, whereas in lower level languages you have to declare an object before initializing it. This is the first step in the process of using a class.</p>"
   ]
  },
  {
   "cell_type": "code",
   "execution_count": 1,
   "metadata": {},
   "outputs": [],
   "source": [
    "class Car():\n",
    "    def __init__(self, color, wheels):\n",
    "        self.color = color\n",
    "        self.wheels = wheels\n",
    "\n",
    "    wheels = 4\n",
    "    color = 'blue'"
   ]
  },
  {
   "cell_type": "markdown",
   "metadata": {},
   "source": [
    "## Using a Class (Instantiating)\n",
    "<p>The process of creating a class is called <i>Instantiating</i>. Each time you create a variable of that type of class, it is referred to as an <i>Instance</i> of that class. This is the second step in the process of using a class.</p>"
   ]
  },
  {
   "cell_type": "markdown",
   "metadata": {},
   "source": [
    "##### Creating One Instance"
   ]
  },
  {
   "cell_type": "code",
   "execution_count": 2,
   "metadata": {},
   "outputs": [
    {
     "name": "stdout",
     "output_type": "stream",
     "text": [
      "blue\n"
     ]
    }
   ],
   "source": [
    "ford = Car()\n",
    "\n",
    "print(ford.color)"
   ]
  },
  {
   "cell_type": "markdown",
   "metadata": {},
   "source": [
    "##### Creating Multiple Instances"
   ]
  },
  {
   "cell_type": "code",
   "execution_count": 10,
   "metadata": {},
   "outputs": [
    {
     "ename": "TypeError",
     "evalue": "Car.__init__() missing 2 required positional arguments: 'color' and 'wheels'",
     "output_type": "error",
     "traceback": [
      "\u001b[0;31m---------------------------------------------------------------------------\u001b[0m",
      "\u001b[0;31mTypeError\u001b[0m                                 Traceback (most recent call last)",
      "\u001b[1;32m/Users/terrencesardin/Desktop/CodingTemple/Python/Thursday_Lesson_Inclass-Rangers63 (1).ipynb Cell 9\u001b[0m line \u001b[0;36m1\n\u001b[0;32m----> <a href='vscode-notebook-cell:/Users/terrencesardin/Desktop/CodingTemple/Python/Thursday_Lesson_Inclass-Rangers63%20%281%29.ipynb#X11sZmlsZQ%3D%3D?line=0'>1</a>\u001b[0m chevy \u001b[39m=\u001b[39m Car()\n\u001b[1;32m      <a href='vscode-notebook-cell:/Users/terrencesardin/Desktop/CodingTemple/Python/Thursday_Lesson_Inclass-Rangers63%20%281%29.ipynb#X11sZmlsZQ%3D%3D?line=1'>2</a>\u001b[0m honda \u001b[39m=\u001b[39m Car()\n\u001b[1;32m      <a href='vscode-notebook-cell:/Users/terrencesardin/Desktop/CodingTemple/Python/Thursday_Lesson_Inclass-Rangers63%20%281%29.ipynb#X11sZmlsZQ%3D%3D?line=2'>3</a>\u001b[0m porsche \u001b[39m=\u001b[39m Car(\u001b[39m'\u001b[39m\u001b[39mmaroon\u001b[39m\u001b[39m'\u001b[39m, \u001b[39m4\u001b[39m)\n",
      "\u001b[0;31mTypeError\u001b[0m: Car.__init__() missing 2 required positional arguments: 'color' and 'wheels'"
     ]
    }
   ],
   "source": [
    "chevy = Car()\n",
    "honda = Car()\n",
    "porsche = Car()\n",
    "\n",
    "print(type(porsche.color))"
   ]
  },
  {
   "cell_type": "markdown",
   "metadata": {},
   "source": [
    "##### In-Class Exercise #1 - Create a Class 'Car' and Instantiate three different makes of cars"
   ]
  },
  {
   "cell_type": "code",
   "execution_count": 6,
   "metadata": {},
   "outputs": [
    {
     "name": "stdout",
     "output_type": "stream",
     "text": [
      "4\n",
      "white\n"
     ]
    }
   ],
   "source": [
    "class car1():\n",
    "    wheels = 4\n",
    "    doors = 4\n",
    "    color = 'white'\n",
    "\n",
    "toyota = car1()\n",
    "rover = car1()\n",
    "print(toyota.wheels)\n",
    "print(rover.color)"
   ]
  },
  {
   "cell_type": "markdown",
   "metadata": {},
   "source": [
    "## The \\__init\\__() Method <br>\n",
    "<p>This method is used in almost every created class, and called only once upon the creation of the class instance. This method will initialize all variables needed for the object.</p>"
   ]
  },
  {
   "cell_type": "code",
   "execution_count": 7,
   "metadata": {},
   "outputs": [
    {
     "name": "stdout",
     "output_type": "stream",
     "text": [
      "black\n"
     ]
    }
   ],
   "source": [
    "class Car():\n",
    "    engine = '4.7L'\n",
    "\n",
    "    def __init__(self, color, wheels):\n",
    "        self.color = color\n",
    "        self.wheels = wheels\n",
    "\n",
    "mazda = Car('black', 4)\n",
    "subaru = Car('blue', 4)\n",
    "\n",
    "print (mazda.color)\n",
    "print (subaru.color)\n",
    "print(mazda.color)\n",
    "print(subaru.wheels)"
   ]
  },
  {
   "cell_type": "markdown",
   "metadata": {},
   "source": [
    "##### The 'self' Attribute <br>\n",
    "<p>This attribute is required to keep track of specific instance's attributes. Without the self attribute, the program would not know how to reference or keep track of an instance's attributes.</p>"
   ]
  },
  {
   "cell_type": "code",
   "execution_count": 12,
   "metadata": {},
   "outputs": [],
   "source": [
    "# see above\n",
    "class House():\n",
    "\n",
    "    def __init__(self, wall, dishes):\n",
    "        self. wall = wall\n",
    "        self.dishes = dishes\n",
    "    def washDishes(self):\n",
    "        if self.dishes.lower()=='dirty':\n",
    "            print(self.wall)\n",
    "\n",
    "    def rockClimbingWall(self, wall):\n",
    "        if self.wall.lower() == 'yes':\n",
    "            return 'rock on, climber'\n",
    "        else:\n",
    "            return 'why on earth would you not want to rock climb'\n",
    "        \n",
    "terrence_house = House('dirty', 'no')\n",
    "\n",
    "terrence_house.washDishes()\n",
    "\n",
    "\n"
   ]
  },
  {
   "cell_type": "markdown",
   "metadata": {},
   "source": [
    "## Class Attributes <br>\n",
    "<p>While variables are inside of a class, they are referred to as attributes and not variables. When someone says 'attribute' you know they're speaking about a class. Attributes can be initialized through the init method, or outside of it.</p>"
   ]
  },
  {
   "cell_type": "markdown",
   "metadata": {},
   "source": [
    "##### Initializing Attributes"
   ]
  },
  {
   "cell_type": "code",
   "execution_count": 13,
   "metadata": {},
   "outputs": [],
   "source": [
    "# see above\n",
    "class Toy():\n",
    "    kind = car = 'car'\n",
    "\n",
    "    def __init__ (self, rooftop,horn,wheels):\n",
    "        self.rooftop = rooftop\n",
    "        self.horn = horn\n",
    "        self.wheels= wheels \n",
    "\n",
    "tonka_truck = Toy (1,1,4)\n",
    "hotwheels = Toy (2,3,7)"
   ]
  },
  {
   "cell_type": "markdown",
   "metadata": {},
   "source": [
    "##### Accessing Class Attributes"
   ]
  },
  {
   "cell_type": "code",
   "execution_count": null,
   "metadata": {
    "scrolled": true
   },
   "outputs": [],
   "source": [
    "# See Above\n",
    "tonka_truck.rooftop\n",
    "hotwheels.wheels"
   ]
  },
  {
   "cell_type": "markdown",
   "metadata": {},
   "source": [
    "##### Setting Defaults for Attributes"
   ]
  },
  {
   "cell_type": "code",
   "execution_count": 16,
   "metadata": {},
   "outputs": [
    {
     "data": {
      "text/plain": [
       "'blue'"
      ]
     },
     "execution_count": 16,
     "metadata": {},
     "output_type": "execute_result"
    }
   ],
   "source": [
    "class Car():\n",
    "    engine = '4.7L'\n",
    "\n",
    "    def __init__(self,wheels):\n",
    "        self.wheels=wheels\n",
    "        self.color='blue'\n",
    "\n",
    "honda=Car(4)\n",
    "honda.color"
   ]
  },
  {
   "cell_type": "markdown",
   "metadata": {},
   "source": [
    "##### Changing Class Attributes <br>\n",
    "<p>Keep in mind there are global class attributes and then there are attributes only available to each class instance which won't effect other classes.</p>"
   ]
  },
  {
   "cell_type": "code",
   "execution_count": 18,
   "metadata": {},
   "outputs": [
    {
     "name": "stdout",
     "output_type": "stream",
     "text": [
      "before change:blue\n",
      "\n",
      "After change: blue\n",
      "blue\n"
     ]
    }
   ],
   "source": [
    "jeep = Car(8)\n",
    "\n",
    "print(f'before change:{jeep.color}')\n",
    "\n",
    "jeep.color=='white'\n",
    "print(f'\\nAfter change: {jeep.color}')\n",
    "print(honda.color)"
   ]
  },
  {
   "cell_type": "code",
   "execution_count": null,
   "metadata": {},
   "outputs": [],
   "source": []
  },
  {
   "cell_type": "markdown",
   "metadata": {},
   "source": [
    "##### In-Class Exercise #2 - Add a doors and seats attribute to your 'Car' class then print out two different instances with different doors and seats"
   ]
  },
  {
   "cell_type": "code",
   "execution_count": 19,
   "metadata": {},
   "outputs": [
    {
     "name": "stdout",
     "output_type": "stream",
     "text": [
      "toyotat seats: 2 and doors: 2\n",
      "porsche seats 4 and doors 4\n"
     ]
    }
   ],
   "source": [
    "class Car():\n",
    "    def __init__ (self, doors, seats = 4):\n",
    "        self.doors= doors\n",
    "        self.seats= seats\n",
    "\n",
    "toyota = Car(2,2)\n",
    "porsche = Car(4)\n",
    "\n",
    "print(f'toyotat seats: {toyota.seats} and doors: {toyota.doors}')\n",
    "print(f'porsche seats {porsche.seats} and doors {porsche.doors}')"
   ]
  },
  {
   "cell_type": "markdown",
   "metadata": {},
   "source": [
    "## Class Methods <br>\n",
    "<p>While inside of a class, functions are referred to as 'methods'. If you hear someone mention methods, they're speaking about classes. Methods are essentially functions, but only callable on the instances of a class.</p>"
   ]
  },
  {
   "cell_type": "markdown",
   "metadata": {},
   "source": [
    "##### Creating"
   ]
  },
  {
   "cell_type": "code",
   "execution_count": 6,
   "metadata": {},
   "outputs": [],
   "source": [
    "class ShoppingBag():\n",
    "\n",
    "    def __init__ (self, handles, capacity, items):\n",
    "        self.handles = handles\n",
    "        self.capacity = capacity\n",
    "        self.items = items\n",
    "\n",
    "    def showShoppingBag(self):\n",
    "        print(\"you have items in your bag!\")\n",
    "        for item in self.items:\n",
    "            print(item)\n",
    "\n",
    "    def showCapicty(self):\n",
    "        print (f'your capacity is: {self.capacity}')\n",
    "\n",
    "    def addToShoppingBag(self):\n",
    "        products = input ('what would you like to add? ')\n",
    "        self.items.append (products)\n",
    "\n",
    "    def changeBagCapacity(self, capacity):\n",
    "        self.capacity = capacity\n",
    "\n",
    "    def increaseCapacity(self, changed_capacity = 10):\n",
    "        if self.capacity == isinstance(self.capacity, str):\n",
    "            print(\"we can't add that here\")\n",
    "        else:\n",
    "            self.capacity += changed_capacity\n",
    "\n",
    "\n",
    "    "
   ]
  },
  {
   "cell_type": "markdown",
   "metadata": {},
   "source": [
    "##### Calling"
   ]
  },
  {
   "cell_type": "code",
   "execution_count": 7,
   "metadata": {},
   "outputs": [
    {
     "ename": "KeyboardInterrupt",
     "evalue": "Interrupted by user",
     "output_type": "error",
     "traceback": [
      "\u001b[0;31m---------------------------------------------------------------------------\u001b[0m",
      "\u001b[0;31mKeyboardInterrupt\u001b[0m                         Traceback (most recent call last)",
      "\u001b[1;32m/Users/terrencesardin/Desktop/CodingTemple/Python/Thursday_Lesson_Inclass-Rangers63 (1).ipynb Cell 32\u001b[0m line \u001b[0;36m1\n\u001b[1;32m     <a href='vscode-notebook-cell:/Users/terrencesardin/Desktop/CodingTemple/Python/Thursday_Lesson_Inclass-Rangers63%20%281%29.ipynb#X43sZmlsZQ%3D%3D?line=14'>15</a>\u001b[0m         \u001b[39melse\u001b[39;00m:\n\u001b[1;32m     <a href='vscode-notebook-cell:/Users/terrencesardin/Desktop/CodingTemple/Python/Thursday_Lesson_Inclass-Rangers63%20%281%29.ipynb#X43sZmlsZQ%3D%3D?line=15'>16</a>\u001b[0m             \u001b[39mprint\u001b[39m(\u001b[39m'\u001b[39m\u001b[39mtry anoother command\u001b[39m\u001b[39m'\u001b[39m)\n\u001b[0;32m---> <a href='vscode-notebook-cell:/Users/terrencesardin/Desktop/CodingTemple/Python/Thursday_Lesson_Inclass-Rangers63%20%281%29.ipynb#X43sZmlsZQ%3D%3D?line=17'>18</a>\u001b[0m run()\n",
      "\u001b[1;32m/Users/terrencesardin/Desktop/CodingTemple/Python/Thursday_Lesson_Inclass-Rangers63 (1).ipynb Cell 32\u001b[0m line \u001b[0;36m6\n\u001b[1;32m      <a href='vscode-notebook-cell:/Users/terrencesardin/Desktop/CodingTemple/Python/Thursday_Lesson_Inclass-Rangers63%20%281%29.ipynb#X43sZmlsZQ%3D%3D?line=3'>4</a>\u001b[0m \u001b[39mdef\u001b[39;00m \u001b[39mrun\u001b[39m():\n\u001b[1;32m      <a href='vscode-notebook-cell:/Users/terrencesardin/Desktop/CodingTemple/Python/Thursday_Lesson_Inclass-Rangers63%20%281%29.ipynb#X43sZmlsZQ%3D%3D?line=4'>5</a>\u001b[0m     \u001b[39mwhile\u001b[39;00m \u001b[39mTrue\u001b[39;00m:\n\u001b[0;32m----> <a href='vscode-notebook-cell:/Users/terrencesardin/Desktop/CodingTemple/Python/Thursday_Lesson_Inclass-Rangers63%20%281%29.ipynb#X43sZmlsZQ%3D%3D?line=5'>6</a>\u001b[0m         response \u001b[39m=\u001b[39m \u001b[39minput\u001b[39;49m (\u001b[39m'\u001b[39;49m\u001b[39mwhat do you want to do add/show/quit\u001b[39;49m\u001b[39m'\u001b[39;49m)\n\u001b[1;32m      <a href='vscode-notebook-cell:/Users/terrencesardin/Desktop/CodingTemple/Python/Thursday_Lesson_Inclass-Rangers63%20%281%29.ipynb#X43sZmlsZQ%3D%3D?line=7'>8</a>\u001b[0m         \u001b[39mif\u001b[39;00m response\u001b[39m.\u001b[39mlower() \u001b[39m==\u001b[39m \u001b[39m'\u001b[39m\u001b[39mquit\u001b[39m\u001b[39m'\u001b[39m:\n\u001b[1;32m      <a href='vscode-notebook-cell:/Users/terrencesardin/Desktop/CodingTemple/Python/Thursday_Lesson_Inclass-Rangers63%20%281%29.ipynb#X43sZmlsZQ%3D%3D?line=8'>9</a>\u001b[0m             wholeFood_bag\u001b[39m.\u001b[39mshowShoppingBag()\n",
      "File \u001b[0;32m~/Library/Python/3.11/lib/python/site-packages/ipykernel/kernelbase.py:1282\u001b[0m, in \u001b[0;36mKernel.raw_input\u001b[0;34m(self, prompt)\u001b[0m\n\u001b[1;32m   1280\u001b[0m     msg \u001b[39m=\u001b[39m \u001b[39m\"\u001b[39m\u001b[39mraw_input was called, but this frontend does not support input requests.\u001b[39m\u001b[39m\"\u001b[39m\n\u001b[1;32m   1281\u001b[0m     \u001b[39mraise\u001b[39;00m StdinNotImplementedError(msg)\n\u001b[0;32m-> 1282\u001b[0m \u001b[39mreturn\u001b[39;00m \u001b[39mself\u001b[39;49m\u001b[39m.\u001b[39;49m_input_request(\n\u001b[1;32m   1283\u001b[0m     \u001b[39mstr\u001b[39;49m(prompt),\n\u001b[1;32m   1284\u001b[0m     \u001b[39mself\u001b[39;49m\u001b[39m.\u001b[39;49m_parent_ident[\u001b[39m\"\u001b[39;49m\u001b[39mshell\u001b[39;49m\u001b[39m\"\u001b[39;49m],\n\u001b[1;32m   1285\u001b[0m     \u001b[39mself\u001b[39;49m\u001b[39m.\u001b[39;49mget_parent(\u001b[39m\"\u001b[39;49m\u001b[39mshell\u001b[39;49m\u001b[39m\"\u001b[39;49m),\n\u001b[1;32m   1286\u001b[0m     password\u001b[39m=\u001b[39;49m\u001b[39mFalse\u001b[39;49;00m,\n\u001b[1;32m   1287\u001b[0m )\n",
      "File \u001b[0;32m~/Library/Python/3.11/lib/python/site-packages/ipykernel/kernelbase.py:1325\u001b[0m, in \u001b[0;36mKernel._input_request\u001b[0;34m(self, prompt, ident, parent, password)\u001b[0m\n\u001b[1;32m   1322\u001b[0m \u001b[39mexcept\u001b[39;00m \u001b[39mKeyboardInterrupt\u001b[39;00m:\n\u001b[1;32m   1323\u001b[0m     \u001b[39m# re-raise KeyboardInterrupt, to truncate traceback\u001b[39;00m\n\u001b[1;32m   1324\u001b[0m     msg \u001b[39m=\u001b[39m \u001b[39m\"\u001b[39m\u001b[39mInterrupted by user\u001b[39m\u001b[39m\"\u001b[39m\n\u001b[0;32m-> 1325\u001b[0m     \u001b[39mraise\u001b[39;00m \u001b[39mKeyboardInterrupt\u001b[39;00m(msg) \u001b[39mfrom\u001b[39;00m \u001b[39mNone\u001b[39;00m\n\u001b[1;32m   1326\u001b[0m \u001b[39mexcept\u001b[39;00m \u001b[39mException\u001b[39;00m:\n\u001b[1;32m   1327\u001b[0m     \u001b[39mself\u001b[39m\u001b[39m.\u001b[39mlog\u001b[39m.\u001b[39mwarning(\u001b[39m\"\u001b[39m\u001b[39mInvalid Message:\u001b[39m\u001b[39m\"\u001b[39m, exc_info\u001b[39m=\u001b[39m\u001b[39mTrue\u001b[39;00m)\n",
      "\u001b[0;31mKeyboardInterrupt\u001b[0m: Interrupted by user"
     ]
    }
   ],
   "source": [
    "# See Above\n",
    "wholeFood_bag = ShoppingBag(2,10,[])\n",
    "\n",
    "def run():\n",
    "    while True:\n",
    "        response = input ('what do you want to do add/show/quit')\n",
    "\n",
    "        if response.lower() == 'quit':\n",
    "            wholeFood_bag.showShoppingBag()\n",
    "            break\n",
    "        elif response.lower == 'add':\n",
    "            wholeFood_bag.addToShoppingBag()\n",
    "        elif response.lower == 'show':\n",
    "            wholeFood_bag.showShoppingBag\n",
    "        else:\n",
    "            print('try anoother command')\n",
    "\n",
    "run()"
   ]
  },
  {
   "cell_type": "markdown",
   "metadata": {},
   "source": [
    "##### Modifying an Attribute's Value Through a Method"
   ]
  },
  {
   "cell_type": "code",
   "execution_count": 26,
   "metadata": {},
   "outputs": [
    {
     "name": "stdout",
     "output_type": "stream",
     "text": [
      "your capacity is: 10\n",
      "capacity AFTER the chaange ...\n",
      "your capacity is: 40\n"
     ]
    }
   ],
   "source": [
    "wholeFood_bag.showCapicty()\n",
    "print('capacity AFTER the chaange ...')\n",
    "wholeFood_bag.changeBagCapacity(40)\n",
    "wholeFood_bag.showCapicty()"
   ]
  },
  {
   "cell_type": "markdown",
   "metadata": {},
   "source": [
    "##### Incrementing an Attribute's Value Through a Method"
   ]
  },
  {
   "cell_type": "code",
   "execution_count": 27,
   "metadata": {},
   "outputs": [
    {
     "name": "stdout",
     "output_type": "stream",
     "text": [
      "your capacity is: 40\n",
      "After increase:\n",
      "your capacity is: 50\n"
     ]
    }
   ],
   "source": [
    "wholeFood_bag.showCapicty()\n",
    "print('After increase:')\n",
    "wholeFood_bag.increaseCapacity()\n",
    "wholeFood_bag.showCapicty()"
   ]
  },
  {
   "cell_type": "markdown",
   "metadata": {},
   "source": [
    "##### In-Class Exercise #3 - Add a method that takes in three parameters of year, doors and seats and prints out a formatted print statement with make, model, year, seats, and doors"
   ]
  },
  {
   "cell_type": "code",
   "execution_count": 20,
   "metadata": {},
   "outputs": [
    {
     "name": "stdout",
     "output_type": "stream",
     "text": [
      "this car is from 2019 and is a Ford Explorer and has 4 doors and 5 seats\n"
     ]
    }
   ],
   "source": [
    "# Create class with 2 paramters inside of the __init__ which are make and model\n",
    "\n",
    "# Inside of the Car class create a method that has 4 parameter in total (self,year,door,seats)\n",
    "\n",
    "# Output: This car is from 2019 and is a Ford Expolorer and has 4 doors and 5 seats\n",
    "class Car:\n",
    "    def __init__ (self, make, model):\n",
    "        self.make = make\n",
    "        self.model = model\n",
    "    def car_details(self, year, door, seats):\n",
    "        self.year = year\n",
    "        self.door = door\n",
    "        self.seats = seats\n",
    "    def show_information(self):\n",
    "        print(f\"this car is from {self.year} and is a {self.make} {self.model} and has {self.door} doors and {self.seats} seats\")\n",
    "\n",
    "new_car = Car('Ford', 'Explorer')\n",
    "new_car.car_details(2019, 4, 5)\n",
    "new_car.show_information()\n",
    "\n",
    "\n",
    "\n",
    "        "
   ]
  },
  {
   "cell_type": "markdown",
   "metadata": {},
   "source": [
    "## Inheritance <br>\n",
    "<p>You can create a child-parent relationship between two classes by using inheritance. What this allows you to do is have overriding methods, but also inherit traits from the parent class. Think of it as an actual parent and child, the child will inherit the parent's genes, as will the classes in OOP</p>"
   ]
  },
  {
   "cell_type": "markdown",
   "metadata": {},
   "source": [
    "##### Syntax for Inheriting from a Parent Class"
   ]
  },
  {
   "cell_type": "code",
   "execution_count": 25,
   "metadata": {},
   "outputs": [
    {
     "name": "stdout",
     "output_type": "stream",
     "text": [
      "bark\n",
      "9.8\n",
      "make some generic sound\n",
      "None\n",
      "15\n"
     ]
    }
   ],
   "source": [
    "class Animal():\n",
    "    accelartion = 9.8\n",
    "\n",
    "    def __init__(self, name, species, legs = 4):\n",
    "        self.name = name\n",
    "        self.species = species\n",
    "        self.legs = legs\n",
    "\n",
    "    def makeSound(self):\n",
    "        print('make some generic sound')\n",
    "\n",
    "class Dog(Animal):\n",
    "    speed = 15\n",
    "\n",
    "    def printInfo(self):\n",
    "        print(f\"The dog has {self.speed}mph in speed and {self.accelartion}\")\n",
    "\n",
    "class Mutt(Dog):\n",
    "    color = \"tan\"\n",
    "\n",
    "    #override the animal class using the dog class to overwrite the init from animal\n",
    "    def __init__(self, name, species, eye_color, legs = 4):\n",
    "        Dog.__init__(self,name,species,legs)\n",
    "        self.eye_color = eye_color\n",
    "\n",
    "    #override the make sound method ehich comes from animal\n",
    "    def makeSound(self):\n",
    "        noise = \"bark\"\n",
    "        return noise\n",
    "    \n",
    "lassie = Dog(\"lassie\", 'Dog')\n",
    "basic_animal = Animal ('Generic Animal name', \"Generic Animal Species\")\n",
    "buster = Mutt(\"Buster\", \"Mutt\", \"brown\")\n",
    "\n",
    "print(buster.makeSound())\n",
    "print(buster.accelartion)\n",
    "print(lassie.makeSound())\n",
    "# print(basic_animal.speed)\n",
    "print(buster.speed)\n"
   ]
  },
  {
   "cell_type": "markdown",
   "metadata": {},
   "source": [
    "##### The \\__init\\__() Method for a Child Class - super()"
   ]
  },
  {
   "cell_type": "code",
   "execution_count": null,
   "metadata": {
    "scrolled": true
   },
   "outputs": [],
   "source": [
    "class Puppy(Dog):\n",
    "    color = 'black and brown'\n",
    "    \n",
    "    #override the animal class(via dog class)\n",
    "    def __init__(self, name, species, eye_color, legs = 4):\n",
    "        super().__init__(name,species,legs)\n",
    "        self.eye_color= eye_color\n",
    "    #override make sound method\n",
    "    def makeSound(self):\n",
    "        noies = \"bark\"\n",
    "        return noies\n",
    "    \n",
    "lassie = Dog(\"lassie\", 'Dog')\n",
    "basic_animal = Animal ('Generic Animal name', \"Generic Animal Species\")\n",
    "buster = Mutt(\"Buster\", \"Mutt\", \"brown\")\n",
    "\n",
    "print(buster.makeSound())\n",
    "print(buster.accelartion)\n",
    "print(lassie.makeSound())\n",
    "# print(basic_animal.speed)\n",
    "print(buster.speed)"
   ]
  },
  {
   "cell_type": "markdown",
   "metadata": {},
   "source": [
    "##### Defining Attributes and Methods for the Child Class"
   ]
  },
  {
   "cell_type": "code",
   "execution_count": null,
   "metadata": {},
   "outputs": [],
   "source": [
    "# See Above"
   ]
  },
  {
   "cell_type": "markdown",
   "metadata": {},
   "source": [
    "##### Method Overriding"
   ]
  },
  {
   "cell_type": "code",
   "execution_count": null,
   "metadata": {},
   "outputs": [],
   "source": [
    "# See Above"
   ]
  },
  {
   "cell_type": "markdown",
   "metadata": {},
   "source": [
    "## Classes as Attributes <br>\n",
    "<p>Classes can also be used as attributes within another class. This is useful in situations where you need to keep variables locally stored, instead of globally stored.</p>"
   ]
  },
  {
   "cell_type": "code",
   "execution_count": 6,
   "metadata": {},
   "outputs": [
    {
     "name": "stdout",
     "output_type": "stream",
     "text": [
      "20\n"
     ]
    },
    {
     "data": {
      "text/plain": [
       "<bound method Car.printInfo of <__main__.Car object at 0x10c8be5d0>>"
      ]
     },
     "execution_count": 6,
     "metadata": {},
     "output_type": "execute_result"
    }
   ],
   "source": [
    "class Battery():\n",
    "    volts = 7.8\n",
    "\n",
    "    def __init__ (self, cells):\n",
    "        self.cells = cells\n",
    "class Car():\n",
    "    def __init__ (self, year,make,model,battery):\n",
    "        self.year = year\n",
    "        self.make = make\n",
    "        self.model = model\n",
    "        self.battery = battery\n",
    "\n",
    "    def printInfo(self):\n",
    "        return f\"{self.year} {self.make} {self.model}{self.battery.cells}\"\n",
    "    \n",
    "my_battery = Battery(20)\n",
    "\n",
    "tesla = Car(2019,'tesla','model x', my_battery)\n",
    "\n",
    "print(tesla.battery.cells)\n",
    "tesla.printInfo"
   ]
  },
  {
   "cell_type": "markdown",
   "metadata": {},
   "source": [
    "# Exercises"
   ]
  },
  {
   "cell_type": "markdown",
   "metadata": {},
   "source": [
    "### Exercise 1 - Turn the shopping cart program from yesterday into an object-oriented program\n",
    "\n",
    "The comments in the cell below are there as a guide for thinking about the problem. However, if you feel a different way is best for you and your own thought process, please do what feels best for you by all means."
   ]
  },
  {
   "cell_type": "code",
   "execution_count": 9,
   "metadata": {},
   "outputs": [
    {
     "name": "stdout",
     "output_type": "stream",
     "text": [
      "\n",
      " choose from these options\n",
      "a. add items\n",
      "r. to remove items\n",
      "d. to delete items\n",
      "v. to view cart\n",
      "q. to quit\n"
     ]
    },
    {
     "ename": "TypeError",
     "evalue": "Cart.a() missing 2 required positional arguments: 'item' and 'quantity'",
     "output_type": "error",
     "traceback": [
      "\u001b[0;31m---------------------------------------------------------------------------\u001b[0m",
      "\u001b[0;31mTypeError\u001b[0m                                 Traceback (most recent call last)",
      "\u001b[1;32m/Users/terrencesardin/Desktop/CodingTemple/Python/Thursday_Lesson_Inclass-Rangers63 (1).ipynb Cell 52\u001b[0m line \u001b[0;36m5\n\u001b[1;32m     <a href='vscode-notebook-cell:/Users/terrencesardin/Desktop/CodingTemple/Python/Thursday_Lesson_Inclass-Rangers63%20%281%29.ipynb#Y102sZmlsZQ%3D%3D?line=49'>50</a>\u001b[0m             \u001b[39mprint\u001b[39m(\u001b[39m'\u001b[39m\u001b[39minvalid input\u001b[39m\u001b[39m'\u001b[39m)\n\u001b[1;32m     <a href='vscode-notebook-cell:/Users/terrencesardin/Desktop/CodingTemple/Python/Thursday_Lesson_Inclass-Rangers63%20%281%29.ipynb#Y102sZmlsZQ%3D%3D?line=50'>51</a>\u001b[0m \u001b[39mif\u001b[39;00m \u001b[39m__name__\u001b[39m \u001b[39m==\u001b[39m \u001b[39m\"\u001b[39m\u001b[39m__main__\u001b[39m\u001b[39m\"\u001b[39m:\n\u001b[0;32m---> <a href='vscode-notebook-cell:/Users/terrencesardin/Desktop/CodingTemple/Python/Thursday_Lesson_Inclass-Rangers63%20%281%29.ipynb#Y102sZmlsZQ%3D%3D?line=51'>52</a>\u001b[0m     main()\n",
      "\u001b[1;32m/Users/terrencesardin/Desktop/CodingTemple/Python/Thursday_Lesson_Inclass-Rangers63 (1).ipynb Cell 52\u001b[0m line \u001b[0;36m4\n\u001b[1;32m     <a href='vscode-notebook-cell:/Users/terrencesardin/Desktop/CodingTemple/Python/Thursday_Lesson_Inclass-Rangers63%20%281%29.ipynb#Y102sZmlsZQ%3D%3D?line=44'>45</a>\u001b[0m food \u001b[39m=\u001b[39m \u001b[39minput\u001b[39m(\u001b[39m\"\u001b[39m\u001b[39mwhat would you like to order?\u001b[39m\u001b[39m\"\u001b[39m)\n\u001b[1;32m     <a href='vscode-notebook-cell:/Users/terrencesardin/Desktop/CodingTemple/Python/Thursday_Lesson_Inclass-Rangers63%20%281%29.ipynb#Y102sZmlsZQ%3D%3D?line=46'>47</a>\u001b[0m \u001b[39mif\u001b[39;00m food\u001b[39m.\u001b[39mlower() \u001b[39min\u001b[39;00m {\u001b[39m\"\u001b[39m\u001b[39ma\u001b[39m\u001b[39m\"\u001b[39m, \u001b[39m\"\u001b[39m\u001b[39mr\u001b[39m\u001b[39m\"\u001b[39m, \u001b[39m\"\u001b[39m\u001b[39md\u001b[39m\u001b[39m\"\u001b[39m, \u001b[39m\"\u001b[39m\u001b[39mq\u001b[39m\u001b[39m\"\u001b[39m}:\n\u001b[0;32m---> <a href='vscode-notebook-cell:/Users/terrencesardin/Desktop/CodingTemple/Python/Thursday_Lesson_Inclass-Rangers63%20%281%29.ipynb#Y102sZmlsZQ%3D%3D?line=47'>48</a>\u001b[0m     \u001b[39mgetattr\u001b[39;49m(shopping_cart, food\u001b[39m.\u001b[39;49mlower())()\n\u001b[1;32m     <a href='vscode-notebook-cell:/Users/terrencesardin/Desktop/CodingTemple/Python/Thursday_Lesson_Inclass-Rangers63%20%281%29.ipynb#Y102sZmlsZQ%3D%3D?line=48'>49</a>\u001b[0m \u001b[39melse\u001b[39;00m: \n\u001b[1;32m     <a href='vscode-notebook-cell:/Users/terrencesardin/Desktop/CodingTemple/Python/Thursday_Lesson_Inclass-Rangers63%20%281%29.ipynb#Y102sZmlsZQ%3D%3D?line=49'>50</a>\u001b[0m     \u001b[39mprint\u001b[39m(\u001b[39m'\u001b[39m\u001b[39minvalid input\u001b[39m\u001b[39m'\u001b[39m)\n",
      "\u001b[0;31mTypeError\u001b[0m: Cart.a() missing 2 required positional arguments: 'item' and 'quantity'"
     ]
    }
   ],
   "source": [
    "# Create a class called cart that retains items and has methods to add, remove, and show\n",
    "\n",
    "class Cart():\n",
    "    def __init__(self):\n",
    "        self.shopping_cart = {}\n",
    "    def additiion (self, item, quantity):\n",
    "        self.item = item\n",
    "        self.quantity = quantity\n",
    "        quantity = int(quantity)\n",
    "        if item in self.shopping_cart:\n",
    "            self.shopping_cart[item] += quantity\n",
    "        else:\n",
    "            self.shopping_cart[item] = quantity\n",
    "        print(f'{quantity} {item}(s) added to the cart.')\n",
    "    def remove(self, item):\n",
    "        if item in self.shopping_cart:\n",
    "            del self.shopping_cart[item]\n",
    "            print(f'{item} has been removed from your cart')\n",
    "        else:\n",
    "            print(f'{item} is not in your cart')\n",
    "    def view(self):\n",
    "        print(\"\\nHere's whats in your cart\")\n",
    "        if self.shopping_cart:\n",
    "            for item, quantity in self.shopping_cart.items():\n",
    "                print(f\"Here is your shopping list\")\n",
    "                print(f'\\n {item} : {quantity}')\n",
    "        else:\n",
    "            print('Shopping cart is empty')\n",
    "    def quitting(self):\n",
    "        for item, quantity in self.shopping_cart.items():\n",
    "            print('Here is your final shopping list')\n",
    "            print(f\"\\n {item}{quantity}\")\n",
    "            print('have a nice day')\n",
    "            exit()\n",
    "def main():\n",
    "    shopping_cart = Cart()\n",
    "    while True:\n",
    "        print('\\n choose from these options')\n",
    "        print(\"a. add items\")\n",
    "        print(\"r. to remove items\")\n",
    "        print(\"d. to delete items\")\n",
    "        print ('v. to view cart')\n",
    "        print('q. to quit')\n",
    "\n",
    "        food = input(\"what would you like to order?\")\n",
    "\n",
    "        if food.lower() in {\"a\", \"r\", \"d\", \"q\"}:\n",
    "            getattr(shopping_cart, food.lower())()\n",
    "        else: \n",
    "            print('invalid input')\n",
    "if __name__ == \"__main__\":\n",
    "    main()\n",
    "            \n",
    "            \n"
   ]
  },
  {
   "cell_type": "markdown",
   "metadata": {},
   "source": [
    "### Exercise 2 - Write a Python class which has two methods get_String and print_String. get_String accept a string from the user and print_String print the string in upper case"
   ]
  },
  {
   "cell_type": "code",
   "execution_count": 23,
   "metadata": {},
   "outputs": [
    {
     "name": "stdout",
     "output_type": "stream",
     "text": [
      "We hope your day is terrific terrence!\n",
      "Hello\n",
      "\n",
      "libby\n"
     ]
    }
   ],
   "source": [
    "class Dous:\n",
    "    def __init__(self):\n",
    "        self.name = input(\"What is your name? \")\n",
    "\n",
    "    def message(self):\n",
    "        first_letter = self.name[0].lower() \n",
    "        greetings = {\n",
    "            \"a\" : \" good morning\",\n",
    "            \"b\": \"Buenos dias\",\n",
    "            \"c\" : \" crazy weather we're having right\",\n",
    "            \"g\": \"Good day mate\",\n",
    "            \"t\": \"We hope your day is terrific\",\n",
    "            \"v\" : \"Very pleased to meet you\",\n",
    "            \"default\": \"Hello\"\n",
    "        }\n",
    "        message = greetings.get(first_letter, greetings[\"default\"])\n",
    "        print(f\"{message}\")\n",
    "        print(f\"\\n{self.name}\")\n",
    "\n",
    "\n",
    "greeting = Dous()\n",
    "greeting.message()\n",
    "\n",
    "\n",
    "    "
   ]
  }
 ],
 "metadata": {
  "kernelspec": {
   "display_name": "Python 3",
   "language": "python",
   "name": "python3"
  },
  "language_info": {
   "codemirror_mode": {
    "name": "ipython",
    "version": 3
   },
   "file_extension": ".py",
   "mimetype": "text/x-python",
   "name": "python",
   "nbconvert_exporter": "python",
   "pygments_lexer": "ipython3",
   "version": "3.11.7"
  }
 },
 "nbformat": 4,
 "nbformat_minor": 2
}
